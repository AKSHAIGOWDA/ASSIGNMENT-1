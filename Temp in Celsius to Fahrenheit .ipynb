{
 "cells": [
  {
   "cell_type": "code",
   "execution_count": 4,
   "metadata": {},
   "outputs": [
    {
     "name": "stdout",
     "output_type": "stream",
     "text": [
      "Temp In Celsius To Fahrenheit\n",
      "enter the temp in celsius42\n",
      "after completing celsius to fahrenheit: 107.6\n"
     ]
    }
   ],
   "source": [
    "print(\"Temp In Celsius To Fahrenheit\")\n",
    "C=float(input(\"enter the temp in celsius\"))\n",
    "F=(C*9/5)+32\n",
    "print(\"after completing celsius to fahrenheit:\",F)"
   ]
  },
  {
   "cell_type": "code",
   "execution_count": null,
   "metadata": {},
   "outputs": [],
   "source": []
  }
 ],
 "metadata": {
  "kernelspec": {
   "display_name": "Python 3",
   "language": "python",
   "name": "python3"
  },
  "language_info": {
   "codemirror_mode": {
    "name": "ipython",
    "version": 3
   },
   "file_extension": ".py",
   "mimetype": "text/x-python",
   "name": "python",
   "nbconvert_exporter": "python",
   "pygments_lexer": "ipython3",
   "version": "3.7.6"
  }
 },
 "nbformat": 4,
 "nbformat_minor": 4
}
